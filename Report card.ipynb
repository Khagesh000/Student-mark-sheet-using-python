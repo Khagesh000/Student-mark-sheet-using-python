{
 "cells": [
  {
   "cell_type": "code",
   "execution_count": 2,
   "id": "1fe5ebf9",
   "metadata": {},
   "outputs": [
    {
     "name": "stdout",
     "output_type": "stream",
     "text": [
      "Enter a number: 2\n",
      "Enter student name: Mani\n",
      "Enter student roll number: 101\n",
      "Enter c language marks: 78\n",
      "Enter python marks: 88\n",
      "Enter aem marks: 67\n",
      "Enter mlp number: 56\n",
      "Enter student name: Kagesh\n",
      "Enter student roll number: 102\n",
      "Enter c language marks: 56\n",
      "Enter python marks: 67\n",
      "Enter aem marks: 78\n",
      "Enter mlp number: 89\n",
      "   S.NAME  S.Roll_no   c  PYTHON  AEM  MLP\n",
      "0    Mani        101  78      88   67   56\n",
      "1  Kagesh        102  56      67   78   89\n"
     ]
    }
   ],
   "source": [
    "import pandas as pd\n",
    "import array as arr\n",
    "num = int(input(\"Enter a number: \"))\n",
    "i = 1\n",
    "Roll_no1 = []\n",
    "NAME = []\n",
    "Array1 = []\n",
    "Python1 = []\n",
    "AEM = []\n",
    "MLP = []\n",
    "for _ in range(num):\n",
    "    Name = str(input(\"Enter student name: \"))\n",
    "    Roll_no = int(input(\"Enter student roll number: \"))\n",
    "    array1 = int(input(\"Enter c language marks: \"))\n",
    "    Python = int(input(\"Enter python marks: \"))\n",
    "    Aem = int(input(\"Enter aem marks: \"))\n",
    "    Mlp = int(input(\"Enter mlp number: \"))\n",
    "    Roll_no1.append(Roll_no)\n",
    "    \n",
    "    Array1.append(array1)\n",
    "    Python1.append(Python)\n",
    "    AEM.append(Aem)\n",
    "    MLP.append(Mlp)\n",
    "    NAME.append(Name)\n",
    "    \n",
    "for i in range(i,num):\n",
    "    df = pd.DataFrame(list(zip(NAME,Roll_no1,Array1,Python1,AEM,MLP)),\n",
    "                 columns = [\"S.NAME\",'S.Roll_no', 'c', 'PYTHON', 'AEM', 'MLP'])\n",
    "print(df)"
   ]
  },
  {
   "cell_type": "code",
   "execution_count": null,
   "id": "09837fee",
   "metadata": {},
   "outputs": [],
   "source": [
    "num = int(input(\"Enter how many times you want: \"))\n",
    "i=1\n",
    "n = []\n",
    "for _ in range(num):\n",
    "    N = int(input(\"Enter a number: \"))\n",
    "    n.append(N)\n",
    "\n",
    "print(\"no is: \",n)"
   ]
  },
  {
   "cell_type": "code",
   "execution_count": null,
   "id": "38474ae9",
   "metadata": {},
   "outputs": [],
   "source": [
    "Name = int(input(\"Enter a number: \"))\n",
    "n = []\n",
    "for _ in range(Name):\n",
    "    N = str(input(\"Enter a name: \"))\n",
    "    n.append(N)\n",
    "\n",
    "print(n)"
   ]
  },
  {
   "cell_type": "code",
   "execution_count": null,
   "id": "817203ce",
   "metadata": {},
   "outputs": [],
   "source": [
    "print(\"mani\")"
   ]
  },
  {
   "cell_type": "code",
   "execution_count": 3,
   "id": "556c3827",
   "metadata": {},
   "outputs": [
    {
     "name": "stdout",
     "output_type": "stream",
     "text": [
      "array('i', [1, 3, 6, 8])\n"
     ]
    }
   ],
   "source": [
    "import numpy as np\n",
    "from array import*\n",
    "\n",
    "a = array('i', [1,3,6,8])\n",
    "print(a)\n"
   ]
  },
  {
   "cell_type": "code",
   "execution_count": 6,
   "id": "46e6fbb9",
   "metadata": {},
   "outputs": [
    {
     "name": "stdout",
     "output_type": "stream",
     "text": [
      "Enter a name: 1\n"
     ]
    },
    {
     "ename": "TypeError",
     "evalue": "'int' object is not iterable",
     "output_type": "error",
     "traceback": [
      "\u001b[1;31m---------------------------------------------------------------------------\u001b[0m",
      "\u001b[1;31mTypeError\u001b[0m                                 Traceback (most recent call last)",
      "\u001b[1;32m~\\AppData\\Local\\Temp\\ipykernel_19444\\1278650710.py\u001b[0m in \u001b[0;36m<module>\u001b[1;34m\u001b[0m\n\u001b[1;32m----> 1\u001b[1;33m \u001b[0mname\u001b[0m \u001b[1;33m=\u001b[0m \u001b[0marray\u001b[0m\u001b[1;33m(\u001b[0m\u001b[1;34m'n'\u001b[0m\u001b[1;33m,\u001b[0m \u001b[0mint\u001b[0m\u001b[1;33m(\u001b[0m\u001b[0minput\u001b[0m\u001b[1;33m(\u001b[0m\u001b[1;34m\"Enter a name: \"\u001b[0m\u001b[1;33m)\u001b[0m\u001b[1;33m)\u001b[0m\u001b[1;33m)\u001b[0m\u001b[1;33m\u001b[0m\u001b[1;33m\u001b[0m\u001b[0m\n\u001b[0m\u001b[0;32m      2\u001b[0m \u001b[0mprint\u001b[0m\u001b[1;33m(\u001b[0m\u001b[0mname\u001b[0m\u001b[1;33m)\u001b[0m\u001b[1;33m\u001b[0m\u001b[1;33m\u001b[0m\u001b[0m\n",
      "\u001b[1;31mTypeError\u001b[0m: 'int' object is not iterable"
     ]
    }
   ],
   "source": [
    "name = array('n', int(input(\"Enter a name: \")))\n",
    "print(name)"
   ]
  },
  {
   "cell_type": "code",
   "execution_count": null,
   "id": "a2ec98d1",
   "metadata": {},
   "outputs": [],
   "source": []
  }
 ],
 "metadata": {
  "kernelspec": {
   "display_name": "Python 3 (ipykernel)",
   "language": "python",
   "name": "python3"
  },
  "language_info": {
   "codemirror_mode": {
    "name": "ipython",
    "version": 3
   },
   "file_extension": ".py",
   "mimetype": "text/x-python",
   "name": "python",
   "nbconvert_exporter": "python",
   "pygments_lexer": "ipython3",
   "version": "3.9.13"
  }
 },
 "nbformat": 4,
 "nbformat_minor": 5
}
